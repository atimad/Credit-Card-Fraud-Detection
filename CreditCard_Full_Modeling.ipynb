{
 "cells": [
  {
   "cell_type": "markdown",
   "id": "ac0adcd6",
   "metadata": {},
   "source": [
    "# Credit Card Fraud Detection with SMOTE and Tree-Based Classifiers\n",
    "\n",
    "This notebook implements a comprehensive fraud detection pipeline using tree-based models, SMOTE for class balancing, and robust evaluation practices.\n",
    "\n",
    "It draws inspiration from the principles outlined in the [Fraud Detection Handbook](https://fraud-detection-handbook.github.io/fraud-detection-handbook/Foreword.html), which emphasizes the importance of proper validation, class imbalance handling, and meaningful metrics like AUPRC in high-skew settings like fraud detection.\n"
   ]
  },
  {
   "cell_type": "markdown",
   "id": "a4a2cd59",
   "metadata": {},
   "source": [
    "## Data Preprocessing\n",
    "\n",
    "Credit card fraud detection requires careful preprocessing due to the highly skewed nature of the data and the presence of anonymized features.\n",
    "\n",
    "We standardize the `Amount` feature using `StandardScaler` to ensure fair weight distribution across models and drop the `Time` column which does not contribute predictive power in this context.\n",
    "\n",
    "This prepares our features for both gradient-boosting models and interpretable models like Logistic Regression.\n"
   ]
  },
  {
   "cell_type": "markdown",
   "id": "f346bee0",
   "metadata": {},
   "source": [
    "## Handling Class Imbalance with SMOTE\n",
    "\n",
    "In highly imbalanced settings (fraud rate < 0.2%), models trained on raw data will often predict only the majority class. To address this:\n",
    "\n",
    "- We use **SMOTE (Synthetic Minority Oversampling Technique)** which creates new synthetic minority examples based on feature space similarity.\n",
    "- This allows models to generalize better without overfitting.\n",
    "- Unlike random oversampling, SMOTE preserves diversity in minority examples.\n",
    "\n",
    "The Fraud Detection Handbook emphasizes SMOTE as a critical technique in offline evaluation, before temporal or live validation is considered.\n"
   ]
  },
  {
   "cell_type": "markdown",
   "id": "7bffcf92",
   "metadata": {},
   "source": [
    "## Model Training\n",
    "\n",
    "We train a series of classifiers on the balanced dataset to compare their performance in a reproducible way.\n",
    "\n",
    "Key models explored:\n",
    "- **XGBoost**: Handles tabular, non-linear patterns efficiently.\n",
    "- **Logistic Regression**: A robust and interpretable baseline.\n",
    "- **LightGBM & CatBoost**: Fast gradient boosting models optimized for large datasets with categorical features.\n",
    "\n",
    "Each model is trained and evaluated using a consistent pipeline for fairness.\n"
   ]
  },
  {
   "cell_type": "markdown",
   "id": "a87e84fb",
   "metadata": {},
   "source": [
    "## Model Evaluation\n",
    "\n",
    "Because accuracy is misleading in imbalanced datasets, we use the following metrics:\n",
    "\n",
    "- **Precision**: Accuracy of positive (fraud) predictions.\n",
    "- **Recall**: Coverage of actual fraud cases.\n",
    "- **F1 Score**: Balance between precision and recall.\n",
    "- **ROC-AUC**: General discrimination ability of the model.\n",
    "- **AUPRC (planned)**: More informative for rare event detection.\n",
    "\n",
    "This is consistent with the Fraud Detection Handbook's emphasis on cost-sensitive metrics.\n"
   ]
  },
  {
   "cell_type": "markdown",
   "id": "01c7b5ab",
   "metadata": {},
   "source": [
    "## Visualizations\n",
    "\n",
    "Visual diagnostics help us understand model performance:\n",
    "\n",
    "- **Confusion Matrix**: Visualizes false positives and false negatives.\n",
    "- **ROC Curve**: Shows tradeoff between sensitivity and specificity.\n",
    "- **(Planned)**: AUPRC and threshold-based precision-recall tradeoffs for deeper insight into model confidence.\n"
   ]
  },
  {
   "cell_type": "markdown",
   "id": "4a74fbf8",
   "metadata": {},
   "source": [
    "## Export Results\n",
    "\n",
    "All key outputs are stored to CSVs in `Data/output/` to support:\n",
    "\n",
    "- Auditable results tracking\n",
    "- Integration with dashboards (e.g. Power BI, Streamlit)\n",
    "- Model comparison reports\n",
    "- Reproducibility for experiment logging\n",
    "\n",
    "The structure supports iterative ML development as recommended in operational fraud detection systems.\n"
   ]
  },
  {
   "cell_type": "markdown",
   "id": "43e3be9d",
   "metadata": {},
   "source": [
    "## 1. Load Input Data\n",
    "This step reads input data required for training or evaluation from the specified CSV files."
   ]
  },
  {
   "cell_type": "code",
   "execution_count": 1,
   "id": "91d1ce43",
   "metadata": {},
   "outputs": [],
   "source": [
    "import pandas as pd\n",
    "import numpy as np\n",
    "from pathlib import Path\n",
    "import matplotlib.pyplot as plt\n",
    "import seaborn as sns\n",
    "import warnings\n",
    "warnings.filterwarnings(\"ignore\")\n",
    "\n",
    "from sklearn.model_selection import train_test_split\n",
    "from sklearn.preprocessing import StandardScaler\n",
    "from sklearn.metrics import (\n",
    "    confusion_matrix, accuracy_score, f1_score,\n",
    "    precision_score, recall_score, roc_curve,\n",
    "    auc, roc_auc_score, ConfusionMatrixDisplay, RocCurveDisplay\n",
    ")\n",
    "\n",
    "from sklearn.linear_model import LogisticRegression\n",
    "from sklearn.ensemble import RandomForestClassifier\n",
    "from xgboost import XGBClassifier\n",
    "from lightgbm import LGBMClassifier\n",
    "from catboost import CatBoostClassifier\n",
    "from imblearn.over_sampling import SMOTE\n",
    "\n",
    "# Load dataset\n",
    "DATA_PATH = Path(\"Data\") / \"creditcard.csv\"\n",
    "assert DATA_PATH.exists(), f\"Dataset not found at {DATA_PATH}\"\n",
    "dataset = pd.read_csv(DATA_PATH)\n",
    "\n",
    "# Preprocess\n",
    "scaler = StandardScaler()\n",
    "card2 = dataset.copy()\n",
    "card2['Scaled_Amount'] = scaler.fit_transform(card2['Amount'].values.reshape(-1, 1))\n",
    "card2 = card2.drop(['Amount', 'Time'], axis=1)\n",
    "\n",
    "# Transform full dataset for prediction\n",
    "card4 = dataset.copy()\n",
    "card4['Scaled_Amount'] = scaler.transform(card4['Amount'].values.reshape(-1, 1))\n",
    "card4 = card4.drop(['Amount', 'Time'], axis=1)\n",
    "\n",
    "# Features and target\n",
    "X = card2.drop('Class', axis=1)\n",
    "y = card2['Class']\n",
    "X_full = card4.drop('Class', axis=1)\n",
    "assert list(X.columns) == list(X_full.columns), \"Feature mismatch\"\n",
    "\n",
    "# SMOTE\n",
    "smote = SMOTE(random_state=42)\n",
    "X_resampled, y_resampled = smote.fit_resample(X, y)\n",
    "\n",
    "# Train-test split\n",
    "X_train, X_test, y_train, y_test = train_test_split(X_resampled, y_resampled, test_size=0.2, random_state=0)"
   ]
  },
  {
   "cell_type": "markdown",
   "id": "b3de295e",
   "metadata": {},
   "source": [
    "## 2. Train XGBoost Model\n",
    "We initialize and train an XGBoost classifier using the balanced dataset."
   ]
  },
  {
   "cell_type": "code",
   "execution_count": 2,
   "id": "ed932e0e",
   "metadata": {},
   "outputs": [
    {
     "name": "stdout",
     "output_type": "stream",
     "text": [
      "Training Score: 0.99997\n",
      "Test Score: 0.99967\n"
     ]
    },
    {
     "data": {
      "image/png": "[encoded data removed]",
      "text/plain": [
       "<Figure size 640x480 with 2 Axes>"
      ]
     },
     "metadata": {},
     "output_type": "display_data"
    },
    {
     "name": "stdout",
     "output_type": "stream",
     "text": [
      "   Accuracy  Recall  Precision  F1 Score\n",
      "0    0.9997     1.0     0.9994    0.9997\n"
     ]
    },
    {
     "data": {
      "image/png": "[encoded data removed]",
      "text/plain": [
       "<Figure size 640x480 with 1 Axes>"
      ]
     },
     "metadata": {},
     "output_type": "display_data"
    }
   ],
   "source": [
    "# Train XGBoost\n",
    "xgb = XGBClassifier(eval_metric='logloss', random_state=42, enable_categorical=False)\n",
    "xgb.fit(X_train, y_train)\n",
    "\n",
    "# Evaluation\n",
    "train_score = xgb.score(X_train, y_train)\n",
    "test_score = xgb.score(X_test, y_test)\n",
    "print(f\"Training Score: {train_score:.5f}\")\n",
    "print(f\"Test Score: {test_score:.5f}\")\n",
    "\n",
    "# Predictions\n",
    "xgb_preds = xgb.predict(X_test)\n",
    "xgb_preds_prob = xgb.predict_proba(X_test)[:, 1]\n",
    "xgb_preds_full = xgb.predict(X_full)\n",
    "xgb_preds_full_prob = xgb.predict_proba(X_full)[:, 1]\n",
    "\n",
    "# Add predictions to original dataset\n",
    "dataset3 = dataset.copy()\n",
    "dataset3['predictions'] = xgb_preds_full\n",
    "dataset3['predictions_prob'] = xgb_preds_full_prob\n",
    "\n",
    "# Confusion Matrix and Metrics\n",
    "cm = confusion_matrix(y_test, xgb_preds)\n",
    "ConfusionMatrixDisplay(cm).plot()\n",
    "plt.title('Confusion Matrix')\n",
    "plt.show()\n",
    "\n",
    "metrics = pd.DataFrame({\n",
    "    'Accuracy': [round(accuracy_score(y_test, xgb_preds), 4)],\n",
    "    'Recall': [round(recall_score(y_test, xgb_preds), 4)],\n",
    "    'Precision': [round(precision_score(y_test, xgb_preds), 4)],\n",
    "    'F1 Score': [round(f1_score(y_test, xgb_preds), 4)]\n",
    "})\n",
    "print(metrics)\n",
    "\n",
    "# ROC and AUC\n",
    "fpr, tpr, thresh = roc_curve(y_test, xgb_preds_prob)\n",
    "roc_auc = auc(fpr, tpr)\n",
    "RocCurveDisplay(fpr=fpr, tpr=tpr, roc_auc=roc_auc).plot()\n",
    "plt.title('ROC Curve')\n",
    "plt.show()\n",
    "\n",
    "# Export\n",
    "metrics.to_csv(\"Data/output/xgboost_metrics.csv\", index=False)\n",
    "pd.DataFrame({'fpr': fpr, 'tpr': tpr, 'thresh': thresh}).to_csv(\"Data/output/xgboost_roc_curve_data.csv\", index=False)\n",
    "pd.DataFrame({'AUC': [roc_auc]}).to_csv(\"Data/output/xgboost_auc.csv\", index=False)\n",
    "dataset3.to_csv(\"Data/output/xgboost_predictions.csv\", index=False)\n"
   ]
  },
  {
   "cell_type": "markdown",
   "id": "34e2425f",
   "metadata": {},
   "source": [
    "## 3. Logistic Regression Model\n",
    "In this section, we train a Logistic Regression model using the same balanced dataset and evaluate it using the same pipeline."
   ]
  },
  {
   "cell_type": "markdown",
   "id": "24cdff32",
   "metadata": {},
   "source": [
    "### Train Logistic Regression Model\n",
    "We train a logistic regression model for comparison using the same dataset."
   ]
  },
  {
   "cell_type": "code",
   "execution_count": 3,
   "id": "afe0faf8",
   "metadata": {},
   "outputs": [
    {
     "name": "stdout",
     "output_type": "stream",
     "text": [
      "Training Score: 0.94602\n",
      "Test Score: 0.94641\n"
     ]
    },
    {
     "data": {
      "image/png": "[encoded data removed]",
      "text/plain": [
       "<Figure size 640x480 with 2 Axes>"
      ]
     },
     "metadata": {},
     "output_type": "display_data"
    },
    {
     "name": "stdout",
     "output_type": "stream",
     "text": [
      "   Accuracy  Recall  Precision  F1 Score\n",
      "0    0.9464  0.9176      0.974    0.9449\n"
     ]
    },
    {
     "data": {
      "image/png": "[encoded data removed]",
      "text/plain": [
       "<Figure size 640x480 with 1 Axes>"
      ]
     },
     "metadata": {},
     "output_type": "display_data"
    }
   ],
   "source": [
    "# Train Logistic Regression\n",
    "logreg = LogisticRegression(max_iter=1000, random_state=42)\n",
    "logreg.fit(X_train, y_train)\n",
    "\n",
    "# Evaluation\n",
    "train_score = logreg.score(X_train, y_train)\n",
    "test_score = logreg.score(X_test, y_test)\n",
    "print(f\"Training Score: {train_score:.5f}\")\n",
    "print(f\"Test Score: {test_score:.5f}\")\n",
    "\n",
    "# Predictions\n",
    "logreg_preds = logreg.predict(X_test)\n",
    "logreg_preds_prob = logreg.predict_proba(X_test)[:, 1]\n",
    "logreg_preds_full = logreg.predict(X_full)\n",
    "logreg_preds_full_prob = logreg.predict_proba(X_full)[:, 1]\n",
    "\n",
    "# Add predictions to original dataset\n",
    "dataset3 = dataset.copy()\n",
    "dataset3['Data/output/logreg_predictions'] = logreg_preds_full\n",
    "dataset3['Data/output/logreg_predictions_prob'] = logreg_preds_full_prob\n",
    "\n",
    "# Confusion Matrix and Metrics\n",
    "cm = confusion_matrix(y_test, logreg_preds)\n",
    "ConfusionMatrixDisplay(cm).plot()\n",
    "plt.title('Confusion Matrix')\n",
    "plt.show()\n",
    "\n",
    "metrics = pd.DataFrame({\n",
    "    'Accuracy': [round(accuracy_score(y_test, logreg_preds), 4)],\n",
    "    'Recall': [round(recall_score(y_test, logreg_preds), 4)],\n",
    "    'Precision': [round(precision_score(y_test, logreg_preds), 4)],\n",
    "    'F1 Score': [round(f1_score(y_test, logreg_preds), 4)]\n",
    "})\n",
    "print(metrics)\n",
    "\n",
    "# ROC and AUC\n",
    "fpr, tpr, thresh = roc_curve(y_test, logreg_preds_prob)\n",
    "roc_auc = auc(fpr, tpr)\n",
    "RocCurveDisplay(fpr=fpr, tpr=tpr, roc_auc=roc_auc).plot()\n",
    "plt.title('ROC Curve')\n",
    "plt.show()\n",
    "\n",
    "# Export\n",
    "metrics.to_csv(\"Data/output/logreg_metrics.csv\", index=False)\n",
    "pd.DataFrame({'fpr': fpr, 'tpr': tpr, 'thresh': thresh}).to_csv(\"Data/output/logreg_roc_curve_data.csv\", index=False)\n",
    "pd.DataFrame({'AUC': [roc_auc]}).to_csv(\"Data/output/logreg_auc.csv\", index=False)\n",
    "dataset3.to_csv(\"Data/output/logreg_predictions.csv\", index=False)\n"
   ]
  },
  {
   "cell_type": "markdown",
   "id": "a8947ed4",
   "metadata": {},
   "source": [
    "## 4. Random Forest Classifier\n",
    "Here we implement and evaluate a Random Forest classifier."
   ]
  },
  {
   "cell_type": "markdown",
   "id": "9fcfd782",
   "metadata": {},
   "source": [
    "### Make Predictions and Evaluate Model\n",
    "Predictions are made on the test set and evaluated using accuracy, precision, recall, and F1-score."
   ]
  },
  {
   "cell_type": "code",
   "execution_count": 4,
   "id": "ed3102e6",
   "metadata": {},
   "outputs": [
    {
     "name": "stdout",
     "output_type": "stream",
     "text": [
      "Training Score: 1.00000\n",
      "Test Score: 0.99991\n"
     ]
    },
    {
     "data": {
      "image/png": "[encoded data removed]",
      "text/plain": [
       "<Figure size 640x480 with 2 Axes>"
      ]
     },
     "metadata": {},
     "output_type": "display_data"
    },
    {
     "name": "stdout",
     "output_type": "stream",
     "text": [
      "   Accuracy  Recall  Precision  F1 Score\n",
      "0    0.9999     1.0     0.9998    0.9999\n"
     ]
    },
    {
     "data": {
      "image/png": "[encoded data removed]",
      "text/plain": [
       "<Figure size 640x480 with 1 Axes>"
      ]
     },
     "metadata": {},
     "output_type": "display_data"
    }
   ],
   "source": [
    "# Train Random Forest\n",
    "rf = RandomForestClassifier(n_estimators=100, random_state=42)\n",
    "rf.fit(X_train, y_train)\n",
    "\n",
    "# Evaluation\n",
    "train_score = rf.score(X_train, y_train)\n",
    "test_score = rf.score(X_test, y_test)\n",
    "print(f\"Training Score: {train_score:.5f}\")\n",
    "print(f\"Test Score: {test_score:.5f}\")\n",
    "\n",
    "# Predictions\n",
    "rf_preds = rf.predict(X_test)\n",
    "rf_preds_prob = rf.predict_proba(X_test)[:, 1]\n",
    "rf_preds_full = rf.predict(X_full)\n",
    "rf_preds_full_prob = rf.predict_proba(X_full)[:, 1]\n",
    "\n",
    "# Add predictions to original dataset\n",
    "dataset3 = dataset.copy()\n",
    "dataset3['Data/output/rf_predictions'] = rf_preds_full\n",
    "dataset3['Data/output/rf_predictions_prob'] = rf_preds_full_prob\n",
    "\n",
    "# Confusion Matrix and Metrics\n",
    "cm = confusion_matrix(y_test, rf_preds)\n",
    "ConfusionMatrixDisplay(cm).plot()\n",
    "plt.title('Confusion Matrix')\n",
    "plt.show()\n",
    "\n",
    "metrics = pd.DataFrame({\n",
    "    'Accuracy': [round(accuracy_score(y_test, rf_preds), 4)],\n",
    "    'Recall': [round(recall_score(y_test, rf_preds), 4)],\n",
    "    'Precision': [round(precision_score(y_test, rf_preds), 4)],\n",
    "    'F1 Score': [round(f1_score(y_test, rf_preds), 4)]\n",
    "})\n",
    "print(metrics)\n",
    "\n",
    "# ROC and AUC\n",
    "fpr, tpr, thresh = roc_curve(y_test, rf_preds_prob)\n",
    "roc_auc = auc(fpr, tpr)\n",
    "RocCurveDisplay(fpr=fpr, tpr=tpr, roc_auc=roc_auc).plot()\n",
    "plt.title('ROC Curve')\n",
    "plt.show()\n",
    "\n",
    "# Export\n",
    "metrics.to_csv(\"Data/output/rf_metrics.csv\", index=False)\n",
    "pd.DataFrame({'fpr': fpr, 'tpr': tpr, 'thresh': thresh}).to_csv(\"Data/output/rf_roc_curve_data.csv\", index=False)\n",
    "pd.DataFrame({'AUC': [roc_auc]}).to_csv(\"Data/output/rf_auc.csv\", index=False)\n",
    "dataset3.to_csv(\"Data/output/rf_predictions.csv\", index=False)\n"
   ]
  },
  {
   "cell_type": "markdown",
   "id": "d72f4835",
   "metadata": {},
   "source": [
    "## 5. LightGBM Classifier\n",
    "We now train a LightGBM classifier and evaluate its performance similarly."
   ]
  },
  {
   "cell_type": "markdown",
   "id": "0da3bb68",
   "metadata": {},
   "source": [
    "### Train LightGBM Model\n",
    "We train a LightGBM model with default parameters."
   ]
  },
  {
   "cell_type": "code",
   "execution_count": 5,
   "id": "0327cfe5",
   "metadata": {},
   "outputs": [
    {
     "name": "stdout",
     "output_type": "stream",
     "text": [
      "[LightGBM] [Info] Number of positive: 227313, number of negative: 227591\n",
      "[LightGBM] [Info] Auto-choosing col-wise multi-threading, the overhead of testing was 0.040312 seconds.\n",
      "You can set `force_col_wise=true` to remove the overhead.\n",
      "[LightGBM] [Info] Total Bins 7395\n",
      "[LightGBM] [Info] Number of data points in the train set: 454904, number of used features: 29\n",
      "[LightGBM] [Info] [binary:BoostFromScore]: pavg=0.499694 -> initscore=-0.001222\n",
      "[LightGBM] [Info] Start training from score -0.001222\n",
      "Training Score: 0.99935\n",
      "Test Score: 0.99916\n"
     ]
    },
    {
     "data": {
      "image/png": "[encoded data removed]",
      "text/plain": [
       "<Figure size 640x480 with 2 Axes>"
      ]
     },
     "metadata": {},
     "output_type": "display_data"
    },
    {
     "name": "stdout",
     "output_type": "stream",
     "text": [
      "   Accuracy  Recall  Precision  F1 Score\n",
      "0    0.9992     1.0     0.9984    0.9992\n"
     ]
    },
    {
     "data": {
      "image/png": "[encoded data removed]",
      "text/plain": [
       "<Figure size 640x480 with 1 Axes>"
      ]
     },
     "metadata": {},
     "output_type": "display_data"
    }
   ],
   "source": [
    "# Train LightGBM\n",
    "lgbm = LGBMClassifier(random_state=42)\n",
    "lgbm.fit(X_train, y_train)\n",
    "\n",
    "# Evaluation\n",
    "train_score = lgbm.score(X_train, y_train)\n",
    "test_score = lgbm.score(X_test, y_test)\n",
    "print(f\"Training Score: {train_score:.5f}\")\n",
    "print(f\"Test Score: {test_score:.5f}\")\n",
    "\n",
    "# Predictions\n",
    "lgbm_preds = lgbm.predict(X_test)\n",
    "lgbm_preds_prob = lgbm.predict_proba(X_test)[:, 1]\n",
    "lgbm_preds_full = lgbm.predict(X_full)\n",
    "lgbm_preds_full_prob = lgbm.predict_proba(X_full)[:, 1]\n",
    "\n",
    "# Add predictions to original dataset\n",
    "dataset3 = dataset.copy()\n",
    "dataset3['Data/output/lgbm_predictions'] = lgbm_preds_full\n",
    "dataset3['Data/output/lgbm_predictions_prob'] = lgbm_preds_full_prob\n",
    "\n",
    "# Confusion Matrix and Metrics\n",
    "cm = confusion_matrix(y_test, lgbm_preds)\n",
    "ConfusionMatrixDisplay(cm).plot()\n",
    "plt.title('Confusion Matrix')\n",
    "plt.show()\n",
    "\n",
    "metrics = pd.DataFrame({\n",
    "    'Accuracy': [round(accuracy_score(y_test, lgbm_preds), 4)],\n",
    "    'Recall': [round(recall_score(y_test, lgbm_preds), 4)],\n",
    "    'Precision': [round(precision_score(y_test, lgbm_preds), 4)],\n",
    "    'F1 Score': [round(f1_score(y_test, lgbm_preds), 4)]\n",
    "})\n",
    "print(metrics)\n",
    "\n",
    "# ROC and AUC\n",
    "fpr, tpr, thresh = roc_curve(y_test, lgbm_preds_prob)\n",
    "roc_auc = auc(fpr, tpr)\n",
    "RocCurveDisplay(fpr=fpr, tpr=tpr, roc_auc=roc_auc).plot()\n",
    "plt.title('ROC Curve')\n",
    "plt.show()\n",
    "\n",
    "# Export\n",
    "metrics.to_csv(\"Data/output/lgbm_metrics.csv\", index=False)\n",
    "pd.DataFrame({'fpr': fpr, 'tpr': tpr, 'thresh': thresh}).to_csv(\"Data/output/lgbm_roc_curve_data.csv\", index=False)\n",
    "pd.DataFrame({'AUC': [roc_auc]}).to_csv(\"Data/output/lgbm_auc.csv\", index=False)\n",
    "dataset3.to_csv(\"Data/output/lgbm_predictions.csv\", index=False)\n"
   ]
  },
  {
   "cell_type": "markdown",
   "id": "946fc950",
   "metadata": {},
   "source": [
    "## 6. CatBoost Classifier\n",
    "Finally, we train and evaluate a CatBoost classifier using the same pipeline."
   ]
  },
  {
   "cell_type": "markdown",
   "id": "14466836",
   "metadata": {},
   "source": [
    "### Train CatBoost Model\n",
    "This cell trains a CatBoost classifier, useful when handling categorical features."
   ]
  },
  {
   "cell_type": "code",
   "execution_count": 6,
   "id": "4afbb662",
   "metadata": {},
   "outputs": [
    {
     "name": "stdout",
     "output_type": "stream",
     "text": [
      "Training Score: 0.99984\n",
      "Test Score: 0.99960\n"
     ]
    },
    {
     "data": {
      "image/png": "[encoded data removed]",
      "text/plain": [
       "<Figure size 640x480 with 2 Axes>"
      ]
     },
     "metadata": {},
     "output_type": "display_data"
    },
    {
     "name": "stdout",
     "output_type": "stream",
     "text": [
      "   Accuracy  Recall  Precision  F1 Score\n",
      "0    0.9996     1.0     0.9992    0.9996\n"
     ]
    },
    {
     "data": {
      "image/png": "[encoded data removed]",
      "text/plain": [
       "<Figure size 640x480 with 1 Axes>"
      ]
     },
     "metadata": {},
     "output_type": "display_data"
    }
   ],
   "source": [
    "# Train CatBoost\n",
    "cat = CatBoostClassifier(verbose=0, random_state=42)\n",
    "cat.fit(X_train, y_train)\n",
    "\n",
    "# Evaluation\n",
    "train_score = cat.score(X_train, y_train)\n",
    "test_score = cat.score(X_test, y_test)\n",
    "print(f\"Training Score: {train_score:.5f}\")\n",
    "print(f\"Test Score: {test_score:.5f}\")\n",
    "\n",
    "# Predictions\n",
    "cat_preds = cat.predict(X_test)\n",
    "cat_preds_prob = cat.predict_proba(X_test)[:, 1]\n",
    "cat_preds_full = cat.predict(X_full)\n",
    "cat_preds_full_prob = cat.predict_proba(X_full)[:, 1]\n",
    "\n",
    "# Add predictions to original dataset\n",
    "dataset3 = dataset.copy()\n",
    "dataset3['Data/output/cat_predictions'] = cat_preds_full\n",
    "dataset3['Data/output/cat_predictions_prob'] = cat_preds_full_prob\n",
    "\n",
    "# Confusion Matrix and Metrics\n",
    "cm = confusion_matrix(y_test, cat_preds)\n",
    "ConfusionMatrixDisplay(cm).plot()\n",
    "plt.title('Confusion Matrix')\n",
    "plt.show()\n",
    "\n",
    "metrics = pd.DataFrame({\n",
    "    'Accuracy': [round(accuracy_score(y_test, cat_preds), 4)],\n",
    "    'Recall': [round(recall_score(y_test, cat_preds), 4)],\n",
    "    'Precision': [round(precision_score(y_test, cat_preds), 4)],\n",
    "    'F1 Score': [round(f1_score(y_test, cat_preds), 4)]\n",
    "})\n",
    "print(metrics)\n",
    "\n",
    "# ROC and AUC\n",
    "fpr, tpr, thresh = roc_curve(y_test, cat_preds_prob)\n",
    "roc_auc = auc(fpr, tpr)\n",
    "RocCurveDisplay(fpr=fpr, tpr=tpr, roc_auc=roc_auc).plot()\n",
    "plt.title('ROC Curve')\n",
    "plt.show()\n",
    "\n",
    "# Export\n",
    "metrics.to_csv(\"Data/output/cat_metrics.csv\", index=False)\n",
    "pd.DataFrame({'fpr': fpr, 'tpr': tpr, 'thresh': thresh}).to_csv(\"Data/output/cat_roc_curve_data.csv\", index=False)\n",
    "pd.DataFrame({'AUC': [roc_auc]}).to_csv(\"Data/output/cat_auc.csv\", index=False)\n",
    "dataset3.to_csv(\"Data/output/cat_predictions.csv\", index=False)\n"
   ]
  },
  {
   "cell_type": "markdown",
   "id": "063dca18",
   "metadata": {},
   "source": [
    "## 7. Model Comparison Summary\n",
    "We compare the evaluation metrics of all models side-by-side in a summary table."
   ]
  },
  {
   "cell_type": "markdown",
   "id": "d906eac9",
   "metadata": {},
   "source": [
    "### Load Input Data\n",
    "This step reads input data required for training or evaluation from the specified CSV files."
   ]
  },
  {
   "cell_type": "code",
   "execution_count": 7,
   "id": "5373829e",
   "metadata": {},
   "outputs": [
    {
     "data": {
      "application/vnd.microsoft.datawrangler.viewer.v0+json": {
       "columns": [
        {
         "name": "index",
         "rawType": "int64",
         "type": "integer"
        },
        {
         "name": "Model",
         "rawType": "object",
         "type": "string"
        },
        {
         "name": "Accuracy",
         "rawType": "float64",
         "type": "float"
        },
        {
         "name": "Recall",
         "rawType": "float64",
         "type": "float"
        },
        {
         "name": "Precision",
         "rawType": "float64",
         "type": "float"
        },
        {
         "name": "F1 Score",
         "rawType": "float64",
         "type": "float"
        }
       ],
       "ref": "0faff5ee-c3d1-4171-8730-8872d24dcbd6",
       "rows": [
        [
         "0",
         "XGBoost",
         "0.9996",
         "1.0",
         "0.9992",
         "0.9996"
        ],
        [
         "1",
         "Logistic Regression",
         "0.9464",
         "0.9176",
         "0.974",
         "0.9449"
        ],
        [
         "2",
         "Random Forest",
         "0.9999",
         "1.0",
         "0.9998",
         "0.9999"
        ],
        [
         "3",
         "LightGBM",
         "0.9992",
         "1.0",
         "0.9984",
         "0.9992"
        ],
        [
         "4",
         "CatBoost",
         "0.9996",
         "1.0",
         "0.9992",
         "0.9996"
        ]
       ],
       "shape": {
        "columns": 5,
        "rows": 5
       }
      },
      "text/html": [
       "<div>\n",
       "<style scoped>\n",
       "    .dataframe tbody tr th:only-of-type {\n",
       "        vertical-align: middle;\n",
       "    }\n",
       "\n",
       "    .dataframe tbody tr th {\n",
       "        vertical-align: top;\n",
       "    }\n",
       "\n",
       "    .dataframe thead th {\n",
       "        text-align: right;\n",
       "    }\n",
       "</style>\n",
       "<table border=\"1\" class=\"dataframe\">\n",
       "  <thead>\n",
       "    <tr style=\"text-align: right;\">\n",
       "      <th></th>\n",
       "      <th>Model</th>\n",
       "      <th>Accuracy</th>\n",
       "      <th>Recall</th>\n",
       "      <th>Precision</th>\n",
       "      <th>F1 Score</th>\n",
       "    </tr>\n",
       "  </thead>\n",
       "  <tbody>\n",
       "    <tr>\n",
       "      <th>0</th>\n",
       "      <td>XGBoost</td>\n",
       "      <td>0.9996</td>\n",
       "      <td>1.0000</td>\n",
       "      <td>0.9992</td>\n",
       "      <td>0.9996</td>\n",
       "    </tr>\n",
       "    <tr>\n",
       "      <th>1</th>\n",
       "      <td>Logistic Regression</td>\n",
       "      <td>0.9464</td>\n",
       "      <td>0.9176</td>\n",
       "      <td>0.9740</td>\n",
       "      <td>0.9449</td>\n",
       "    </tr>\n",
       "    <tr>\n",
       "      <th>2</th>\n",
       "      <td>Random Forest</td>\n",
       "      <td>0.9999</td>\n",
       "      <td>1.0000</td>\n",
       "      <td>0.9998</td>\n",
       "      <td>0.9999</td>\n",
       "    </tr>\n",
       "    <tr>\n",
       "      <th>3</th>\n",
       "      <td>LightGBM</td>\n",
       "      <td>0.9992</td>\n",
       "      <td>1.0000</td>\n",
       "      <td>0.9984</td>\n",
       "      <td>0.9992</td>\n",
       "    </tr>\n",
       "    <tr>\n",
       "      <th>4</th>\n",
       "      <td>CatBoost</td>\n",
       "      <td>0.9996</td>\n",
       "      <td>1.0000</td>\n",
       "      <td>0.9992</td>\n",
       "      <td>0.9996</td>\n",
       "    </tr>\n",
       "  </tbody>\n",
       "</table>\n",
       "</div>"
      ],
      "text/plain": [
       "                 Model  Accuracy  Recall  Precision  F1 Score\n",
       "0              XGBoost    0.9996  1.0000     0.9992    0.9996\n",
       "1  Logistic Regression    0.9464  0.9176     0.9740    0.9449\n",
       "2        Random Forest    0.9999  1.0000     0.9998    0.9999\n",
       "3             LightGBM    0.9992  1.0000     0.9984    0.9992\n",
       "4             CatBoost    0.9996  1.0000     0.9992    0.9996"
      ]
     },
     "execution_count": 7,
     "metadata": {},
     "output_type": "execute_result"
    }
   ],
   "source": [
    "# Collect metrics from all models\n",
    "summary_df = pd.DataFrame({\n",
    "    'Model': ['XGBoost', 'Logistic Regression', 'Random Forest', 'LightGBM', 'CatBoost'],\n",
    "    'Accuracy': [\n",
    "        metrics['Accuracy'].values[0],\n",
    "        #pd.read_csv('Data/output/xgboost_metrics.csv')['Accuracy'][0],\n",
    "        pd.read_csv('Data/output/logreg_metrics.csv')['Accuracy'][0],\n",
    "        pd.read_csv('Data/output/rf_metrics.csv')['Accuracy'][0],\n",
    "        pd.read_csv('Data/output/lgbm_metrics.csv')['Accuracy'][0],\n",
    "        pd.read_csv('Data/output/cat_metrics.csv')['Accuracy'][0]\n",
    "    ],\n",
    "    'Recall': [\n",
    "        metrics['Recall'].values[0],\n",
    "        #pd.read_csv('Data/output/xgboost_metrics.csv')['Recall'][0],\n",
    "        pd.read_csv('Data/output/logreg_metrics.csv')['Recall'][0],\n",
    "        pd.read_csv('Data/output/rf_metrics.csv')['Recall'][0],\n",
    "        pd.read_csv('Data/output/lgbm_metrics.csv')['Recall'][0],\n",
    "        pd.read_csv('Data/output/cat_metrics.csv')['Recall'][0]\n",
    "    ],\n",
    "    'Precision': [\n",
    "        metrics['Precision'].values[0],\n",
    "        #pd.read_csv('Data/output/xgboost_metrics.csv')['Precision'][0],\n",
    "        pd.read_csv('Data/output/logreg_metrics.csv')['Precision'][0],\n",
    "        pd.read_csv('Data/output/rf_metrics.csv')['Precision'][0],\n",
    "        pd.read_csv('Data/output/lgbm_metrics.csv')['Precision'][0],\n",
    "        pd.read_csv('Data/output/cat_metrics.csv')['Precision'][0]\n",
    "    ],\n",
    "    'F1 Score': [\n",
    "        metrics['F1 Score'].values[0],\n",
    "        #pd.read_csv('Data/output/xgboost_metrics.csv')['F1 Score'][0],\n",
    "        pd.read_csv('Data/output/logreg_metrics.csv')['F1 Score'][0],\n",
    "        pd.read_csv('Data/output/rf_metrics.csv')['F1 Score'][0],\n",
    "        pd.read_csv('Data/output/lgbm_metrics.csv')['F1 Score'][0],\n",
    "        pd.read_csv('Data/output/cat_metrics.csv')['F1 Score'][0]\n",
    "    ]\n",
    "})\n",
    "summary_df.to_csv(\"Data/output/model_comparison_summary.csv\", index=False)\n",
    "summary_df\n"
   ]
  },
  {
   "cell_type": "markdown",
   "id": "d25f190a",
   "metadata": {},
   "source": [
    "## 8. Hyperparameter Tuning with GridSearchCV\n",
    "We perform hyperparameter tuning on XGBoost using GridSearchCV to find the best parameters."
   ]
  },
  {
   "cell_type": "markdown",
   "id": "68777a0a",
   "metadata": {},
   "source": [
    "### Train XGBoost Model\n",
    "We initialize and train an XGBoost classifier using the balanced dataset."
   ]
  },
  {
   "cell_type": "code",
   "execution_count": 8,
   "id": "667df8d3",
   "metadata": {},
   "outputs": [
    {
     "name": "stdout",
     "output_type": "stream",
     "text": [
      "Fitting 3 folds for each of 24 candidates, totalling 72 fits\n",
      "Best Parameters: {'learning_rate': 0.1, 'max_depth': 7, 'n_estimators': 200, 'subsample': 0.8}\n",
      "   Accuracy  Recall  Precision  F1 Score\n",
      "0   0.99971     1.0   0.999421  0.999711\n"
     ]
    }
   ],
   "source": [
    "from sklearn.model_selection import GridSearchCV\n",
    "\n",
    "# Define parameter grid for XGBoost\n",
    "param_grid = {\n",
    "    'max_depth': [3, 5, 7],\n",
    "    'learning_rate': [0.01, 0.1],\n",
    "    'n_estimators': [100, 200],\n",
    "    'subsample': [0.8, 1.0]\n",
    "}\n",
    "\n",
    "xgb_tune = XGBClassifier(eval_metric='logloss', random_state=42)\n",
    "grid_search = GridSearchCV(estimator=xgb_tune, param_grid=param_grid, cv=3, scoring='f1', verbose=1, n_jobs=-1)\n",
    "grid_search.fit(X_train, y_train)\n",
    "\n",
    "print(\"Best Parameters:\", grid_search.best_params_)\n",
    "best_xgb = grid_search.best_estimator_\n",
    "\n",
    "# Evaluate tuned model\n",
    "xgb_tuned_preds = best_xgb.predict(X_test)\n",
    "xgb_tuned_probs = best_xgb.predict_proba(X_test)[:, 1]\n",
    "tuned_metrics = pd.DataFrame({\n",
    "    'Accuracy': [accuracy_score(y_test, xgb_tuned_preds)],\n",
    "    'Recall': [recall_score(y_test, xgb_tuned_preds)],\n",
    "    'Precision': [precision_score(y_test, xgb_tuned_preds)],\n",
    "    'F1 Score': [f1_score(y_test, xgb_tuned_preds)]\n",
    "})\n",
    "print(tuned_metrics)\n"
   ]
  },
  {
   "cell_type": "markdown",
   "id": "4e172d56",
   "metadata": {},
   "source": [
    "## 9. Ensemble Model (Voting Classifier)\n",
    "We combine XGBoost, Random Forest, and Logistic Regression into an ensemble Voting Classifier to leverage their strengths."
   ]
  },
  {
   "cell_type": "markdown",
   "id": "9e51a94d",
   "metadata": {},
   "source": [
    "### Train XGBoost Model\n",
    "We initialize and train an XGBoost classifier using the balanced dataset."
   ]
  },
  {
   "cell_type": "code",
   "execution_count": 9,
   "id": "18bb0ebd",
   "metadata": {},
   "outputs": [
    {
     "name": "stdout",
     "output_type": "stream",
     "text": [
      "   Accuracy  Recall  Precision  F1 Score\n",
      "0   0.99978     1.0   0.999562  0.999781\n"
     ]
    }
   ],
   "source": [
    "from sklearn.ensemble import VotingClassifier\n",
    "\n",
    "# Define base models\n",
    "xgb_base = XGBClassifier(eval_metric='logloss', random_state=42)\n",
    "rf_base = RandomForestClassifier(n_estimators=100, random_state=42)\n",
    "logreg_base = LogisticRegression(max_iter=1000, random_state=42)\n",
    "\n",
    "# Create ensemble model\n",
    "voting_clf = VotingClassifier(estimators=[\n",
    "    ('xgb', xgb_base),\n",
    "    ('rf', rf_base),\n",
    "    ('lr', logreg_base)\n",
    "], voting='soft')\n",
    "\n",
    "voting_clf.fit(X_train, y_train)\n",
    "ensemble_preds = voting_clf.predict(X_test)\n",
    "ensemble_probs = voting_clf.predict_proba(X_test)[:, 1]\n",
    "\n",
    "# Evaluate ensemble\n",
    "ensemble_metrics = pd.DataFrame({\n",
    "    'Accuracy': [accuracy_score(y_test, ensemble_preds)],\n",
    "    'Recall': [recall_score(y_test, ensemble_preds)],\n",
    "    'Precision': [precision_score(y_test, ensemble_preds)],\n",
    "    'F1 Score': [f1_score(y_test, ensemble_preds)]\n",
    "})\n",
    "print(ensemble_metrics)\n",
    "\n",
    "# Save to CSV\n",
    "ensemble_metrics.to_csv(\"Data/output/ensemble_metrics.csv\", index=False)\n"
   ]
  },
  {
   "cell_type": "markdown",
   "id": "85846853",
   "metadata": {},
   "source": [
    "## 10. Stacking Ensemble\n",
    "We use StackingClassifier to combine base models and a meta-model for improved performance."
   ]
  },
  {
   "cell_type": "markdown",
   "id": "0e9f9c2b",
   "metadata": {},
   "source": [
    "### Train XGBoost Model\n",
    "We initialize and train an XGBoost classifier using the balanced dataset."
   ]
  },
  {
   "cell_type": "code",
   "execution_count": 10,
   "id": "43ef0537",
   "metadata": {},
   "outputs": [
    {
     "name": "stdout",
     "output_type": "stream",
     "text": [
      "   Accuracy  Recall  Precision  F1 Score\n",
      "0  0.999877     1.0   0.999754  0.999877\n"
     ]
    }
   ],
   "source": [
    "from sklearn.ensemble import StackingClassifier\n",
    "\n",
    "# Define base learners and meta-learner\n",
    "estimators = [\n",
    "    ('rf', RandomForestClassifier(n_estimators=100, random_state=42)),\n",
    "    ('lr', LogisticRegression(max_iter=1000, random_state=42)),\n",
    "    ('xgb', XGBClassifier(eval_metric='logloss', random_state=42))\n",
    "]\n",
    "\n",
    "stack_model = StackingClassifier(estimators=estimators, final_estimator=LogisticRegression(), cv=3)\n",
    "stack_model.fit(X_train, y_train)\n",
    "\n",
    "stack_preds = stack_model.predict(X_test)\n",
    "stack_probs = stack_model.predict_proba(X_test)[:, 1]\n",
    "\n",
    "stack_metrics = pd.DataFrame({\n",
    "    'Accuracy': [accuracy_score(y_test, stack_preds)],\n",
    "    'Recall': [recall_score(y_test, stack_preds)],\n",
    "    'Precision': [precision_score(y_test, stack_preds)],\n",
    "    'F1 Score': [f1_score(y_test, stack_preds)]\n",
    "})\n",
    "print(stack_metrics)\n",
    "\n",
    "stack_metrics.to_csv(\"Data/output/stacking_metrics.csv\", index=False)\n"
   ]
  },
  {
   "cell_type": "markdown",
   "id": "73bd12cc",
   "metadata": {},
   "source": [
    "## 11. AutoML-Style Comparison Table\n",
    "Aggregate metrics from all models including tuned and ensemble methods for a final comparison."
   ]
  },
  {
   "cell_type": "markdown",
   "id": "9d6ebd7d",
   "metadata": {},
   "source": [
    "### Load Input Data\n",
    "This step reads input data required for training or evaluation from the specified CSV files."
   ]
  },
  {
   "cell_type": "code",
   "execution_count": 11,
   "id": "91cabef4",
   "metadata": {},
   "outputs": [
    {
     "data": {
      "application/vnd.microsoft.datawrangler.viewer.v0+json": {
       "columns": [
        {
         "name": "index",
         "rawType": "int64",
         "type": "integer"
        },
        {
         "name": "Model",
         "rawType": "object",
         "type": "string"
        },
        {
         "name": "Accuracy",
         "rawType": "float64",
         "type": "float"
        },
        {
         "name": "Recall",
         "rawType": "float64",
         "type": "float"
        },
        {
         "name": "Precision",
         "rawType": "float64",
         "type": "float"
        },
        {
         "name": "F1 Score",
         "rawType": "float64",
         "type": "float"
        }
       ],
       "ref": "d3db7957-6127-4a4e-a65d-ac2cc6af9b44",
       "rows": [
        [
         "0",
         "XGBoost",
         "0.9996",
         "1.0",
         "0.9992",
         "0.9996"
        ],
        [
         "1",
         "XGBoost Tuned",
         "0.9997098288869739",
         "1.0",
         "0.9994214079074253",
         "0.9997106202372914"
        ],
        [
         "2",
         "Logistic Regression",
         "0.9464",
         "0.9176",
         "0.974",
         "0.9449"
        ],
        [
         "3",
         "Random Forest",
         "0.9999",
         "1.0",
         "0.9998",
         "0.9999"
        ],
        [
         "4",
         "LightGBM",
         "0.9992",
         "1.0",
         "0.9984",
         "0.9992"
        ],
        [
         "5",
         "CatBoost",
         "0.9996",
         "1.0",
         "0.9992",
         "0.9996"
        ],
        [
         "6",
         "Voting Ensemble",
         "0.9997801733992226",
         "1.0",
         "0.9995616111666404",
         "0.999780757526594"
        ],
        [
         "7",
         "Stacking Ensemble",
         "0.9998768971035648",
         "1.0",
         "0.9997544548898556",
         "0.9998772123699766"
        ]
       ],
       "shape": {
        "columns": 5,
        "rows": 8
       }
      },
      "text/html": [
       "<div>\n",
       "<style scoped>\n",
       "    .dataframe tbody tr th:only-of-type {\n",
       "        vertical-align: middle;\n",
       "    }\n",
       "\n",
       "    .dataframe tbody tr th {\n",
       "        vertical-align: top;\n",
       "    }\n",
       "\n",
       "    .dataframe thead th {\n",
       "        text-align: right;\n",
       "    }\n",
       "</style>\n",
       "<table border=\"1\" class=\"dataframe\">\n",
       "  <thead>\n",
       "    <tr style=\"text-align: right;\">\n",
       "      <th></th>\n",
       "      <th>Model</th>\n",
       "      <th>Accuracy</th>\n",
       "      <th>Recall</th>\n",
       "      <th>Precision</th>\n",
       "      <th>F1 Score</th>\n",
       "    </tr>\n",
       "  </thead>\n",
       "  <tbody>\n",
       "    <tr>\n",
       "      <th>0</th>\n",
       "      <td>XGBoost</td>\n",
       "      <td>0.999600</td>\n",
       "      <td>1.0000</td>\n",
       "      <td>0.999200</td>\n",
       "      <td>0.999600</td>\n",
       "    </tr>\n",
       "    <tr>\n",
       "      <th>1</th>\n",
       "      <td>XGBoost Tuned</td>\n",
       "      <td>0.999710</td>\n",
       "      <td>1.0000</td>\n",
       "      <td>0.999421</td>\n",
       "      <td>0.999711</td>\n",
       "    </tr>\n",
       "    <tr>\n",
       "      <th>2</th>\n",
       "      <td>Logistic Regression</td>\n",
       "      <td>0.946400</td>\n",
       "      <td>0.9176</td>\n",
       "      <td>0.974000</td>\n",
       "      <td>0.944900</td>\n",
       "    </tr>\n",
       "    <tr>\n",
       "      <th>3</th>\n",
       "      <td>Random Forest</td>\n",
       "      <td>0.999900</td>\n",
       "      <td>1.0000</td>\n",
       "      <td>0.999800</td>\n",
       "      <td>0.999900</td>\n",
       "    </tr>\n",
       "    <tr>\n",
       "      <th>4</th>\n",
       "      <td>LightGBM</td>\n",
       "      <td>0.999200</td>\n",
       "      <td>1.0000</td>\n",
       "      <td>0.998400</td>\n",
       "      <td>0.999200</td>\n",
       "    </tr>\n",
       "    <tr>\n",
       "      <th>5</th>\n",
       "      <td>CatBoost</td>\n",
       "      <td>0.999600</td>\n",
       "      <td>1.0000</td>\n",
       "      <td>0.999200</td>\n",
       "      <td>0.999600</td>\n",
       "    </tr>\n",
       "    <tr>\n",
       "      <th>6</th>\n",
       "      <td>Voting Ensemble</td>\n",
       "      <td>0.999780</td>\n",
       "      <td>1.0000</td>\n",
       "      <td>0.999562</td>\n",
       "      <td>0.999781</td>\n",
       "    </tr>\n",
       "    <tr>\n",
       "      <th>7</th>\n",
       "      <td>Stacking Ensemble</td>\n",
       "      <td>0.999877</td>\n",
       "      <td>1.0000</td>\n",
       "      <td>0.999754</td>\n",
       "      <td>0.999877</td>\n",
       "    </tr>\n",
       "  </tbody>\n",
       "</table>\n",
       "</div>"
      ],
      "text/plain": [
       "                 Model  Accuracy  Recall  Precision  F1 Score\n",
       "0              XGBoost  0.999600  1.0000   0.999200  0.999600\n",
       "1        XGBoost Tuned  0.999710  1.0000   0.999421  0.999711\n",
       "2  Logistic Regression  0.946400  0.9176   0.974000  0.944900\n",
       "3        Random Forest  0.999900  1.0000   0.999800  0.999900\n",
       "4             LightGBM  0.999200  1.0000   0.998400  0.999200\n",
       "5             CatBoost  0.999600  1.0000   0.999200  0.999600\n",
       "6      Voting Ensemble  0.999780  1.0000   0.999562  0.999781\n",
       "7    Stacking Ensemble  0.999877  1.0000   0.999754  0.999877"
      ]
     },
     "execution_count": 11,
     "metadata": {},
     "output_type": "execute_result"
    }
   ],
   "source": [
    "final_summary_df = pd.DataFrame({\n",
    "    'Model': ['XGBoost', 'XGBoost Tuned', 'Logistic Regression', 'Random Forest', 'LightGBM', 'CatBoost', 'Voting Ensemble', 'Stacking Ensemble'],\n",
    "    'Accuracy': [\n",
    "        metrics['Accuracy'].values[0],\n",
    "        tuned_metrics['Accuracy'].values[0],\n",
    "        pd.read_csv('Data/output/logreg_metrics.csv')['Accuracy'][0],\n",
    "        pd.read_csv('Data/output/rf_metrics.csv')['Accuracy'][0],\n",
    "        pd.read_csv('Data/output/lgbm_metrics.csv')['Accuracy'][0],\n",
    "        pd.read_csv('Data/output/cat_metrics.csv')['Accuracy'][0],\n",
    "        pd.read_csv('Data/output/ensemble_metrics.csv')['Accuracy'][0],\n",
    "        pd.read_csv('Data/output/stacking_metrics.csv')['Accuracy'][0]\n",
    "    ],\n",
    "    'Recall': [\n",
    "        metrics['Recall'].values[0],\n",
    "        tuned_metrics['Recall'].values[0],\n",
    "        pd.read_csv('Data/output/logreg_metrics.csv')['Recall'][0],\n",
    "        pd.read_csv('Data/output/rf_metrics.csv')['Recall'][0],\n",
    "        pd.read_csv('Data/output/lgbm_metrics.csv')['Recall'][0],\n",
    "        pd.read_csv('Data/output/cat_metrics.csv')['Recall'][0],\n",
    "        pd.read_csv('Data/output/ensemble_metrics.csv')['Recall'][0],\n",
    "        pd.read_csv('Data/output/stacking_metrics.csv')['Recall'][0]\n",
    "    ],\n",
    "    'Precision': [\n",
    "        metrics['Precision'].values[0],\n",
    "        tuned_metrics['Precision'].values[0],\n",
    "        pd.read_csv('Data/output/logreg_metrics.csv')['Precision'][0],\n",
    "        pd.read_csv('Data/output/rf_metrics.csv')['Precision'][0],\n",
    "        pd.read_csv('Data/output/lgbm_metrics.csv')['Precision'][0],\n",
    "        pd.read_csv('Data/output/cat_metrics.csv')['Precision'][0],\n",
    "        pd.read_csv('Data/output/ensemble_metrics.csv')['Precision'][0],\n",
    "        pd.read_csv('Data/output/stacking_metrics.csv')['Precision'][0]\n",
    "    ],\n",
    "    'F1 Score': [\n",
    "        metrics['F1 Score'].values[0],\n",
    "        tuned_metrics['F1 Score'].values[0],\n",
    "        pd.read_csv('Data/output/logreg_metrics.csv')['F1 Score'][0],\n",
    "        pd.read_csv('Data/output/rf_metrics.csv')['F1 Score'][0],\n",
    "        pd.read_csv('Data/output/lgbm_metrics.csv')['F1 Score'][0],\n",
    "        pd.read_csv('Data/output/cat_metrics.csv')['F1 Score'][0],\n",
    "        pd.read_csv('Data/output/ensemble_metrics.csv')['F1 Score'][0],\n",
    "        pd.read_csv('Data/output/stacking_metrics.csv')['F1 Score'][0]\n",
    "    ]\n",
    "})\n",
    "\n",
    "final_summary_df.to_csv(\"Data/output/automl_model_summary.csv\", index=False)\n",
    "final_summary_df\n"
   ]
  },
  {
   "cell_type": "markdown",
   "id": "7978cd51",
   "metadata": {},
   "source": [
    "## 12. Deployment-Ready Script Generator\n",
    "Export the best model and required transformers for future inference (e.g. in Flask or Streamlit)."
   ]
  },
  {
   "cell_type": "markdown",
   "id": "ec3f7a45",
   "metadata": {},
   "source": [
    "### Load Input Data\n",
    "This step reads input data required for training or evaluation from the specified CSV files."
   ]
  },
  {
   "cell_type": "code",
   "execution_count": 12,
   "id": "f41d73b9",
   "metadata": {},
   "outputs": [],
   "source": [
    "import joblib\n",
    "\n",
    "# Save best model (e.g. best_xgb from GridSearchCV)\n",
    "joblib.dump(best_xgb, 'best_model_xgb.pkl')\n",
    "joblib.dump(scaler, 'scaler.pkl')\n",
    "\n",
    "# Save prediction logic script\n",
    "with open(\"predict_script.py\", \"w\") as f:\n",
    "    f.write(\"\"\"import pandas as pd\n",
    "import joblib\n",
    "\n",
    "# Load model and scaler\n",
    "model = joblib.load('best_model_xgb.pkl')\n",
    "scaler = joblib.load('scaler.pkl')\n",
    "\n",
    "def predict_from_csv(input_csv):\n",
    "    df = pd.read_csv(input_csv)\n",
    "    df['Scaled_Amount'] = scaler.transform(df['Amount'].values.reshape(-1, 1))\n",
    "    df = df.drop(['Amount', 'Time'], axis=1)\n",
    "    predictions = model.predict(df.drop('Class', axis=1))\n",
    "    probabilities = model.predict_proba(df.drop('Class', axis=1))[:, 1]\n",
    "    df['Prediction'] = predictions\n",
    "    df['Probability'] = probabilities\n",
    "    df.to_csv('predicted_output.csv', index=False)\n",
    "    print('Prediction complete. Saved to predicted_output.csv')\n",
    "\n",
    "# Example: predict_from_csv('new_data.csv')\n",
    "\"\"\")\n"
   ]
  }
 ],
 "metadata": {
  "kernelspec": {
   "display_name": "fraud-venv",
   "language": "python",
   "name": "python3"
  },
  "language_info": {
   "codemirror_mode": {
    "name": "ipython",
    "version": 3
   },
   "file_extension": ".py",
   "mimetype": "text/x-python",
   "name": "python",
   "nbconvert_exporter": "python",
   "pygments_lexer": "ipython3",
   "version": "3.13.5"
  }
 },
 "nbformat": 4,
 "nbformat_minor": 5
}
